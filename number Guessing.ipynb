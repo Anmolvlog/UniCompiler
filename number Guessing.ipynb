{
 "cells": [
  {
   "cell_type": "code",
   "execution_count": 6,
   "metadata": {},
   "outputs": [
    {
     "name": "stdout",
     "output_type": "stream",
     "text": [
      "Number of guesses is limited to only 9 times: \n",
      "Guess the number :\n",
      "6\n",
      "you enter less number please input greater number.\n",
      "\n",
      "8 no. of guesses left\n",
      "Guess the number :\n",
      "8\n",
      "you enter less number please input greater number.\n",
      "\n",
      "7 no. of guesses left\n",
      "Guess the number :\n",
      "15\n",
      "you enter less number please input greater number.\n",
      "\n",
      "6 no. of guesses left\n",
      "Guess the number :\n",
      "60\n",
      "you enter greater number please input smaller number.\n",
      " \n",
      "5 no. of guesses left\n",
      "Guess the number :\n",
      "50\n",
      "you enter greater number please input smaller number.\n",
      " \n",
      "4 no. of guesses left\n",
      "Guess the number :\n",
      "39\n",
      "you enter greater number please input smaller number.\n",
      " \n",
      "3 no. of guesses left\n",
      "Guess the number :\n",
      "25\n",
      "you enter greater number please input smaller number.\n",
      " \n",
      "2 no. of guesses left\n",
      "Guess the number :\n",
      "18\n",
      "you won\n",
      "\n",
      "8 no.of guesses he took to finish.\n"
     ]
    }
   ],
   "source": [
    "n=18\n",
    "number_of_guesses=1\n",
    "print(\"Number of guesses is limited to only 9 times: \")\n",
    "while (number_of_guesses<=9):\n",
    "    guess_number = int(input(\"Guess the number :\\n\"))\n",
    "    if guess_number<18:\n",
    "        print(\"you enter less number please input greater number.\\n\")\n",
    "    elif guess_number>18:\n",
    "        print(\"you enter greater number please input smaller number.\\n \")\n",
    "    else:\n",
    "        print(\"you won\\n\")\n",
    "        print(number_of_guesses,\"no.of guesses he took to finish.\")\n",
    "        break\n",
    "    print(9-number_of_guesses,\"no. of guesses left\")\n",
    "    number_of_guesses = number_of_guesses + 1\n",
    "\n",
    "if(number_of_guesses>9):\n",
    "    print(\"Game Over\")"
   ]
  },
  {
   "cell_type": "code",
   "execution_count": null,
   "metadata": {},
   "outputs": [],
   "source": []
  }
 ],
 "metadata": {
  "kernelspec": {
   "display_name": "Python 3",
   "language": "python",
   "name": "python3"
  },
  "language_info": {
   "codemirror_mode": {
    "name": "ipython",
    "version": 3
   },
   "file_extension": ".py",
   "mimetype": "text/x-python",
   "name": "python",
   "nbconvert_exporter": "python",
   "pygments_lexer": "ipython3",
   "version": "3.8.5"
  }
 },
 "nbformat": 4,
 "nbformat_minor": 4
}
