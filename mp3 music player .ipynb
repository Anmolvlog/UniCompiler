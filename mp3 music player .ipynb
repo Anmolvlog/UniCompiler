{
 "cells": [
  {
   "cell_type": "code",
   "execution_count": 16,
   "metadata": {},
   "outputs": [],
   "source": [
    "from tkinter import *"
   ]
  },
  {
   "cell_type": "code",
   "execution_count": 17,
   "metadata": {},
   "outputs": [],
   "source": [
    "import pygame"
   ]
  },
  {
   "cell_type": "code",
   "execution_count": 19,
   "metadata": {},
   "outputs": [],
   "source": [
    "import os"
   ]
  },
  {
   "cell_type": "code",
   "execution_count": 21,
   "metadata": {},
   "outputs": [],
   "source": [
    "root = Tk() "
   ]
  },
  {
   "cell_type": "code",
   "execution_count": 22,
   "metadata": {},
   "outputs": [],
   "source": [
    "def __init__(self,root):\n",
    "    self.root = root\n",
    "    # Title of the window\n",
    "    self.root.title(\"MusicPlayer\")\n",
    "    # Window Geometry\n",
    "    self.root.geometry(\"1000x200+200+200\")\n",
    "    # Initiating Pygame\n",
    "    pygame.init()\n",
    "    # Initiating Pygame Mixer\n",
    "    pygame.mixer.init()\n",
    "    # Declaring track Variable\n",
    "    self.track = StringVar()\n",
    "    # Declaring Status Variable\n",
    "    self.status = StringVar()\n",
    "\n",
    "    # Creating the Track Frames for Song label & status label\n",
    "    trackframe = LabelFrame(self.root,text=\"Song Track\",font=(\"times new roman\",15,\"bold\"),bg=\"Navyblue\",fg=\"white\",bd=5,relief=GROOVE)\n",
    "    trackframe.place(x=0,y=0,width=600,height=100)\n",
    "    # Inserting Song Track Label\n",
    "    songtrack = Label(trackframe,textvariable=self.track,width=20,font=(\"times new roman\",24,\"bold\"),bg=\"Orange\",fg=\"gold\").grid(row=0,column=0,padx=10,pady=5)\n",
    "    # Inserting Status Label\n",
    "    trackstatus = Label(trackframe,textvariable=self.status,font=(\"times new roman\",24,\"bold\"),bg=\"orange\",fg=\"gold\").grid(row=0,column=1,padx=10,pady=5)\n",
    "\n",
    "    # Creating Button Frame\n",
    "    buttonframe = LabelFrame(self.root,text=\"Control Panel\",font=(\"times new roman\",15,\"bold\"),bg=\"grey\",fg=\"white\",bd=5,relief=GROOVE)\n",
    "    buttonframe.place(x=0,y=100,width=600,height=100)\n",
    "    # Inserting Play Button\n",
    "    playbtn = Button(buttonframe,text=\"PLAYSONG\",command=self.playsong,width=10,height=1,font=(\"times new roman\",16,\"bold\"),fg=\"navyblue\",bg=\"pink\").grid(row=0,column=0,padx=10,pady=5)\n",
    "    # Inserting Pause Button\n",
    "    playbtn = Button(buttonframe,text=\"PAUSE\",command=self.pausesong,width=8,height=1,font=(\"times new roman\",16,\"bold\"),fg=\"navyblue\",bg=\"pink\").grid(row=0,column=1,padx=10,pady=5)\n",
    "    # Inserting Unpause Button\n",
    "    playbtn = Button(buttonframe,text=\"UNPAUSE\",command=self.unpausesong,width=10,height=1,font=(\"times new roman\",16,\"bold\"),fg=\"navyblue\",bg=\"pink\").grid(row=0,column=2,padx=10,pady=5)\n",
    "    # Inserting Stop Button\n",
    "    playbtn = Button(buttonframe,text=\"STOPSONG\",command=self.stopsong,width=10,height=1,font=(\"times new roman\",16,\"bold\"),fg=\"navyblue\",bg=\"pink\").grid(row=0,column=3,padx=10,pady=5)\n",
    "\n",
    "    # Creating Playlist Frame\n",
    "    songsframe = LabelFrame(self.root,text=\"Song Playlist\",font=(\"times new roman\",15,\"bold\"),bg=\"grey\",fg=\"white\",bd=5,relief=GROOVE)\n",
    "    songsframe.place(x=600,y=0,width=400,height=200)\n",
    "    # Inserting scrollbar\n",
    "    scrol_y = Scrollbar(songsframe,orient=VERTICAL)\n",
    "    # Inserting Playlist listbox\n",
    "    self.playlist = Listbox(songsframe,yscrollcommand=scrol_y.set,selectbackground=\"gold\",selectmode=SINGLE,font=(\"times new roman\",12,\"bold\"),bg=\"silver\",fg=\"navyblue\",bd=5,relief=GROOVE)\n",
    "    # Applying Scrollbar to listbox\n",
    "    scrol_y.pack(side=RIGHT,fill=Y)\n",
    "    scrol_y.config(command=self.playlist.yview)\n",
    "    self.playlist.pack(fill=BOTH)\n",
    "    # Changing Directory for fetching Songs\n",
    "    os.chdir(\"PATH/OF/DIRECTORY\")\n",
    "    # Fetching Songs\n",
    "    songtracks = os.listdir()\n",
    "    # Inserting Songs into Playlist\n",
    "    for track in songtracks:\n",
    "      self.playlist.insert(END,track)\n"
   ]
  },
  {
   "cell_type": "code",
   "execution_count": 23,
   "metadata": {},
   "outputs": [],
   "source": [
    " def playsong(self):\n",
    "    # Displaying Selected Song title\n",
    "    self.track.set(self.playlist.get(ACTIVE))\n",
    "    # Displaying Status\n",
    "    self.status.set(\"-Playing\")\n",
    "    # Loading Selected Song\n",
    "    pygame.mixer.music.load(self.playlist.get(ACTIVE))\n",
    "    # Playing Selected Song\n",
    "    pygame.mixer.music.play()"
   ]
  },
  {
   "cell_type": "code",
   "execution_count": 24,
   "metadata": {},
   "outputs": [],
   "source": [
    " def stopsong(self):\n",
    "    # Displaying Status\n",
    "    self.status.set(\"-Stopped\")\n",
    "    # Stopped Song\n",
    "    pygame.mixer.music.stop()"
   ]
  },
  {
   "cell_type": "code",
   "execution_count": 25,
   "metadata": {},
   "outputs": [],
   "source": [
    "def pausesong(self):\n",
    "    # Displaying Status\n",
    "    self.status.set(\"-Paused\")\n",
    "    # Paused Song\n",
    "    pygame.mixer.music.pause()"
   ]
  },
  {
   "cell_type": "code",
   "execution_count": 26,
   "metadata": {},
   "outputs": [],
   "source": [
    "  def unpausesong(self):\n",
    "    # It will Display the  Status\n",
    "    self.status.set(\"-Playing\")\n",
    "    # Playing back Song\n",
    "    pygame.mixer.music.unpause()\n"
   ]
  },
  {
   "cell_type": "code",
   "execution_count": 27,
   "metadata": {},
   "outputs": [],
   "source": [
    "root.mainloop()"
   ]
  },
  {
   "cell_type": "code",
   "execution_count": null,
   "metadata": {},
   "outputs": [],
   "source": []
  }
 ],
 "metadata": {
  "kernelspec": {
   "display_name": "Python 3",
   "language": "python",
   "name": "python3"
  },
  "language_info": {
   "codemirror_mode": {
    "name": "ipython",
    "version": 3
   },
   "file_extension": ".py",
   "mimetype": "text/x-python",
   "name": "python",
   "nbconvert_exporter": "python",
   "pygments_lexer": "ipython3",
   "version": "3.8.5"
  }
 },
 "nbformat": 4,
 "nbformat_minor": 4
}
